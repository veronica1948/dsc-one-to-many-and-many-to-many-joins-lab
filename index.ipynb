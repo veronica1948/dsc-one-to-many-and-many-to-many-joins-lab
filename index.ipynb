{
 "cells": [
  {
   "cell_type": "markdown",
   "metadata": {},
   "source": [
    "# One-to-Many and Many-to-Many Joins - Lab"
   ]
  },
  {
   "cell_type": "markdown",
   "metadata": {},
   "source": [
    "## Introduction"
   ]
  },
  {
   "cell_type": "markdown",
   "metadata": {},
   "source": [
    "In this lab, you'll practice your knowledge of one-to-many and many-to-many relationships!"
   ]
  },
  {
   "cell_type": "markdown",
   "metadata": {},
   "source": [
    "## Objectives\n",
    "\n",
    "You will be able to:\n",
    "\n",
    "* Explain one-to-many and many-to-many joins as well as implications for the size of query results\n",
    "* Query data using one-to-many and many-to-many joins"
   ]
  },
  {
   "cell_type": "markdown",
   "metadata": {},
   "source": [
    "## One-to-Many and Many-to-Many Joins\n",
    "<img src='https://curriculum-content.s3.amazonaws.com/data-science/images/Database-Schema.png' width=\"600\">"
   ]
  },
  {
   "cell_type": "markdown",
   "metadata": {},
   "source": [
    "## Connect to the Database\n",
    "\n",
    "Include the relevant imports, then connect to the database located at `data.sqlite`."
   ]
  },
  {
   "cell_type": "code",
   "execution_count": 1,
   "metadata": {},
   "outputs": [],
   "source": [
    "# Your code here\n",
    "import sqlite3\n",
    "import pandas as pd\n",
    "conn = sqlite3.connect(\"data.sqlite\")"
   ]
  },
  {
   "cell_type": "markdown",
   "metadata": {},
   "source": [
    "## Employees and Their Offices (a One-to-One Join)\n",
    "\n",
    "Select all of the employees including their first name and last name along with the city and state of the office that they work out of (if they have one). Include all employees and order them by their first name, then their last name."
   ]
  },
  {
   "cell_type": "code",
   "execution_count": 2,
   "metadata": {},
   "outputs": [
    {
     "name": "stdout",
     "output_type": "stream",
     "text": [
      "total number of events: 23\n"
     ]
    }
   ],
   "source": [
    "# Your code here\n",
    "q = \"\"\"\n",
    "SELECT firstName,lastName,city,state\n",
    "FROM employees\n",
    "JOIN offices\n",
    "USING (officecode)\n",
    "ORDER BY firstName,lastName\n",
    ";\n",
    "\"\"\"\n",
    "df = pd.read_sql(q,conn)\n",
    "print('total number of events:',len(df))\n"
   ]
  },
  {
   "cell_type": "markdown",
   "metadata": {},
   "source": [
    "## Customers and Their Orders (a One-to-Many Join)\n",
    "\n",
    "Select all of the customer contacts (first and last names) along with details for each of the customers' order numbers, order dates, and statuses."
   ]
  },
  {
   "cell_type": "code",
   "execution_count": 3,
   "metadata": {},
   "outputs": [
    {
     "name": "stdout",
     "output_type": "stream",
     "text": [
      "Total number of results: 326\n"
     ]
    }
   ],
   "source": [
    "# Your code here\n",
    "q = \"\"\"\n",
    "SELECT\n",
    "    contactFirstName,\n",
    "    contactLastName,\n",
    "    orderNumber,\n",
    "    orderDate,\n",
    "    status\n",
    "FROM customers\n",
    "JOIN orders\n",
    "    USING(customerNumber)\n",
    ";\n",
    "\"\"\"\n",
    "df = pd.read_sql(q, conn)\n",
    "print('Total number of results:', len(df))\n"
   ]
  },
  {
   "cell_type": "markdown",
   "metadata": {},
   "source": [
    "## Customers and Their Payments (Another One-to-Many Join)\n",
    "\n",
    "Select all of the customer contacts (first and last names) along with details for each of the customers' payment amounts and date of payment. Sort these results in descending order by the payment amount. "
   ]
  },
  {
   "cell_type": "code",
   "execution_count": 4,
   "metadata": {},
   "outputs": [
    {
     "name": "stdout",
     "output_type": "stream",
     "text": [
      "Total number of results: 273\n"
     ]
    }
   ],
   "source": [
    "# Your code here\n",
    "q = \"\"\"\n",
    "SELECT\n",
    "    contactFirstName,\n",
    "    contactLastName,\n",
    "    amount,\n",
    "    paymentDate\n",
    "FROM customers\n",
    "JOIN payments\n",
    "    USING(customerNumber)\n",
    "ORDER BY amount DESC\n",
    ";\n",
    "\"\"\"\n",
    "df = pd.read_sql(q, conn)\n",
    "print('Total number of results:', len(df))"
   ]
  },
  {
   "cell_type": "markdown",
   "metadata": {},
   "source": [
    "## Orders, Order Details, and Product Details (a Many-to-Many Join)"
   ]
  },
  {
   "cell_type": "markdown",
   "metadata": {},
   "source": [
    "Select all of the customer contacts (first and last names) along with the product names, quantities, and date ordered for each of the customers and each of their orders. Sort these in descending order by the order date.\n",
    "\n",
    "> Note: This will require joining 4 tables! This can be tricky! Give it a shot, and if you're still stuck, turn to the next section where you'll see how to write subqueries that can make complex queries such as this much simpler!"
   ]
  },
  {
   "cell_type": "code",
   "execution_count": null,
   "metadata": {},
   "outputs": [],
   "source": [
    "# Your code here\n"
   ]
  },
  {
   "cell_type": "markdown",
   "metadata": {},
   "source": [
    "## Summary"
   ]
  },
  {
   "cell_type": "markdown",
   "metadata": {},
   "source": [
    "In this lab, you practiced your knowledge of one-to-many and many-to-many relationships!"
   ]
  }
 ],
 "metadata": {
  "kernelspec": {
   "display_name": "Python 3 (ipykernel)",
   "language": "python",
   "name": "python3"
  },
  "language_info": {
   "codemirror_mode": {
    "name": "ipython",
    "version": 3
   },
   "file_extension": ".py",
   "mimetype": "text/x-python",
   "name": "python",
   "nbconvert_exporter": "python",
   "pygments_lexer": "ipython3",
   "version": "3.12.7"
  },
  "toc": {
   "base_numbering": 1,
   "nav_menu": {},
   "number_sections": true,
   "sideBar": true,
   "skip_h1_title": false,
   "title_cell": "Table of Contents",
   "title_sidebar": "Contents",
   "toc_cell": false,
   "toc_position": {},
   "toc_section_display": true,
   "toc_window_display": false
  }
 },
 "nbformat": 4,
 "nbformat_minor": 4
}
